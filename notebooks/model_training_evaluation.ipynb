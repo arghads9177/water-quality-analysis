{
 "cells": [
  {
   "cell_type": "markdown",
   "id": "49168bf0-c93b-49d4-beba-f60f08b51ef8",
   "metadata": {},
   "source": [
    "# Water Quality Analysis and Classification\n",
    "\n",
    "## Context\n",
    "\n",
    "Water quality is a critical factor in maintaining public health and environmental sustainability. Contaminants in water, such as heavy metals, bacteria, and chemicals, can pose serious health risks if present in unsafe concentrations. This project focuses on analyzing and classifying the quality of water samples from an urban environment to determine their safety for consumption. By examining various water quality parameters, we can identify potential hazards and ensure that the water meets safety standards for human use.\n",
    "\n",
    "This project focuses on analyzing and classifying water quality in an urban environment using an imaginary dataset. The dataset is designed for educational purposes, allowing users to practice and acquire knowledge in data analysis and machine learning.\n",
    "\n",
    "## Source\n",
    "\n",
    "This data set is available on Kaggle in the following link:\n",
    "\n",
    "> https://www.kaggle.com/datasets/mssmartypants/water-quality\n",
    "\n",
    "### Data Dictionary\n",
    "\n",
    "The dataset contains various attributes related to water quality, where each attribute represents a specific water ingredient. The attributes are all numeric variables and are listed below along with their safety thresholds:\n",
    "\n",
    "- **aluminium**: It is the aluminium content present in water sample. It contaons numeric data. Dangerous if greater than 2.8\n",
    "- **ammonia**: It is the amonia content present in water sample. It contaons numeric data. Dangerous if greater than 32.5\n",
    "- **arsenic**: It is the arsenic content present in water sample. It contaons numeric data. Dangerous if greater than 0.01\n",
    "- **barium**: It is the barium content present in water sample. It contaons numeric data. Dangerous if greater than 2\n",
    "- **cadmium**: It is the cadmium content present in water sample. It contaons numeric data. Dangerous if greater than 0.005\n",
    "- **chloramine**: It is the chloramine content present in water sample. It contaons numeric data. Dangerous if greater than 4\n",
    "- **chromium**: It is the chromium content present in water sample. It contaons numeric data. Dangerous if greater than 0.1\n",
    "- **copper**: It is the copper content present in water sample. It contaons numeric data. Dangerous if greater than 1.3\n",
    "- **flouride**: It is the flouride content present in water sample. It contaons numeric data. Dangerous if greater than 1.5\n",
    "- **bacteria**: It is the different bacteria present in water sample. It contaons numeric data. Dangerous if greater than 0\n",
    "- **viruses**: It is the different viruses present in water sample. It contaons numeric data. Dangerous if greater than 0\n",
    "- **lead**: It is the lead content present in water sample. It contaons numeric data. Dangerous if greater than 0.015\n",
    "- **nitrates**: It is the nitrate content present in water sample. It contaons numeric data. Dangerous if greater than 10\n",
    "- **nitrites**: It is the nitrites content present in water sample. It contaons numeric data. Dangerous if greater than 1\n",
    "- **mercury**: It is the mercury content present in water sample. It contaons numeric data. Dangerous if greater than 0.002\n",
    "- **perchlorate**: It is the perchlorate content present in water sample. It contaons numeric data. Dangerous if greater than 56\n",
    "- **radium**: It is the radium content present in water sample. It contaons numeric data. Dangerous if greater than 5\n",
    "- **selenium**: It is the selenium content present in water sample. It contaons numeric data. Dangerous if greater than 0.5\n",
    "- **silver**: It is the silder content present in water sample. It contaons numeric data. Dangerous if greater than 0.1\n",
    "- **uranium**: It is the uranium content present in water sample. It contaons numeric data. Dangerous if greater than 0.3\n",
    "- **is_safe**: It is the output feature the clasify the quality of the water whether it is safe or not. It contains two attributes (**0 - not safe, 1 - safe**)\n",
    "\n",
    "### Problem Statement\n",
    "\n",
    "1. **Model Training**: The objective of model training is to separate the input and output features, split them into training and testing set and train the model with the training set of data.\n",
    "2. **Data Cleaning**: Evaluate the performace of the model with testing dataset using different evaluation metrics such as accuracy, precision, recall and F1 score.\n"
   ]
  },
  {
   "cell_type": "markdown",
   "id": "13f72dee-d54e-4bb4-8ba5-0146f8f07864",
   "metadata": {},
   "source": [
    "### Load Libraries"
   ]
  },
  {
   "cell_type": "code",
   "execution_count": 32,
   "id": "779e6eca-c52e-4237-b657-fde8a1e55d0f",
   "metadata": {},
   "outputs": [],
   "source": [
    "# General\n",
    "import pandas as pd\n",
    "import numpy as np\n",
    "import warnings\n",
    "import os\n",
    "import pickle\n",
    "\n",
    "# Preprocessing\n",
    "from sklearn.preprocessing import StandardScaler\n",
    "from sklearn.model_selection import train_test_split\n",
    "\n",
    "# Model training and Evaluation\n",
    "from sklearn.ensemble import RandomForestClassifier\n",
    "from sklearn.metrics import accuracy_score, precision_score, recall_score, f1_score\n",
    "\n",
    "# Model Optimization\n",
    "from sklearn.model_selection import KFold, cross_val_score\n",
    "from sklearn.model_selection import GridSearchCV"
   ]
  },
  {
   "cell_type": "markdown",
   "id": "f99871b8-83b0-40a0-b72a-cb6f74973412",
   "metadata": {},
   "source": [
    "### Settings"
   ]
  },
  {
   "cell_type": "code",
   "execution_count": 20,
   "id": "e44dd22d-8cee-4b3f-ac63-cad87fc121c5",
   "metadata": {},
   "outputs": [],
   "source": [
    "# Warning\n",
    "warnings.filterwarnings(\"ignore\")\n",
    "\n",
    "# Path\n",
    "data_path = \"../data\"\n",
    "model_path = \"../models\"\n",
    "# csv_path = os.path.join(data_path,\"water_wom.csv\")\n",
    "csv_path = os.path.join(data_path,\"water_wom.csv\")"
   ]
  },
  {
   "cell_type": "markdown",
   "id": "509bd93a-d422-4a44-b0e5-2a8aa6c8f537",
   "metadata": {},
   "source": [
    "### Load Data"
   ]
  },
  {
   "cell_type": "code",
   "execution_count": 21,
   "id": "ecf949eb-438c-4e0e-b285-35af7c2f86d1",
   "metadata": {},
   "outputs": [],
   "source": [
    "df = pd.read_csv(csv_path)"
   ]
  },
  {
   "cell_type": "code",
   "execution_count": 22,
   "id": "08aebbc3-3d52-4176-abb2-d29c54d86f3e",
   "metadata": {},
   "outputs": [
    {
     "data": {
      "text/html": [
       "<div>\n",
       "<style scoped>\n",
       "    .dataframe tbody tr th:only-of-type {\n",
       "        vertical-align: middle;\n",
       "    }\n",
       "\n",
       "    .dataframe tbody tr th {\n",
       "        vertical-align: top;\n",
       "    }\n",
       "\n",
       "    .dataframe thead th {\n",
       "        text-align: right;\n",
       "    }\n",
       "</style>\n",
       "<table border=\"1\" class=\"dataframe\">\n",
       "  <thead>\n",
       "    <tr style=\"text-align: right;\">\n",
       "      <th></th>\n",
       "      <th>aluminium</th>\n",
       "      <th>ammonia</th>\n",
       "      <th>arsenic</th>\n",
       "      <th>barium</th>\n",
       "      <th>cadmium</th>\n",
       "      <th>chloramine</th>\n",
       "      <th>chromium</th>\n",
       "      <th>copper</th>\n",
       "      <th>flouride</th>\n",
       "      <th>bacteria</th>\n",
       "      <th>...</th>\n",
       "      <th>lead</th>\n",
       "      <th>nitrates</th>\n",
       "      <th>nitrites</th>\n",
       "      <th>mercury</th>\n",
       "      <th>perchlorate</th>\n",
       "      <th>radium</th>\n",
       "      <th>selenium</th>\n",
       "      <th>silver</th>\n",
       "      <th>uranium</th>\n",
       "      <th>is_safe</th>\n",
       "    </tr>\n",
       "  </thead>\n",
       "  <tbody>\n",
       "    <tr>\n",
       "      <th>0</th>\n",
       "      <td>1.65</td>\n",
       "      <td>9.08</td>\n",
       "      <td>0.04</td>\n",
       "      <td>2.85</td>\n",
       "      <td>0.007</td>\n",
       "      <td>0.35</td>\n",
       "      <td>0.83</td>\n",
       "      <td>0.17</td>\n",
       "      <td>0.05</td>\n",
       "      <td>0.20</td>\n",
       "      <td>...</td>\n",
       "      <td>0.054</td>\n",
       "      <td>16.08</td>\n",
       "      <td>1.13</td>\n",
       "      <td>0.007</td>\n",
       "      <td>37.75</td>\n",
       "      <td>6.78</td>\n",
       "      <td>0.08</td>\n",
       "      <td>0.34</td>\n",
       "      <td>0.02</td>\n",
       "      <td>1.0</td>\n",
       "    </tr>\n",
       "    <tr>\n",
       "      <th>1</th>\n",
       "      <td>2.32</td>\n",
       "      <td>21.16</td>\n",
       "      <td>0.01</td>\n",
       "      <td>3.31</td>\n",
       "      <td>0.002</td>\n",
       "      <td>5.28</td>\n",
       "      <td>0.68</td>\n",
       "      <td>0.66</td>\n",
       "      <td>0.90</td>\n",
       "      <td>0.65</td>\n",
       "      <td>...</td>\n",
       "      <td>0.100</td>\n",
       "      <td>2.01</td>\n",
       "      <td>1.93</td>\n",
       "      <td>0.003</td>\n",
       "      <td>32.26</td>\n",
       "      <td>3.21</td>\n",
       "      <td>0.08</td>\n",
       "      <td>0.27</td>\n",
       "      <td>0.05</td>\n",
       "      <td>1.0</td>\n",
       "    </tr>\n",
       "    <tr>\n",
       "      <th>2</th>\n",
       "      <td>1.01</td>\n",
       "      <td>14.02</td>\n",
       "      <td>0.04</td>\n",
       "      <td>0.58</td>\n",
       "      <td>0.008</td>\n",
       "      <td>4.24</td>\n",
       "      <td>0.53</td>\n",
       "      <td>0.02</td>\n",
       "      <td>0.99</td>\n",
       "      <td>0.05</td>\n",
       "      <td>...</td>\n",
       "      <td>0.078</td>\n",
       "      <td>14.16</td>\n",
       "      <td>1.11</td>\n",
       "      <td>0.006</td>\n",
       "      <td>50.28</td>\n",
       "      <td>7.07</td>\n",
       "      <td>0.07</td>\n",
       "      <td>0.44</td>\n",
       "      <td>0.01</td>\n",
       "      <td>0.0</td>\n",
       "    </tr>\n",
       "    <tr>\n",
       "      <th>3</th>\n",
       "      <td>1.36</td>\n",
       "      <td>11.33</td>\n",
       "      <td>0.04</td>\n",
       "      <td>2.96</td>\n",
       "      <td>0.001</td>\n",
       "      <td>7.23</td>\n",
       "      <td>0.03</td>\n",
       "      <td>1.66</td>\n",
       "      <td>1.08</td>\n",
       "      <td>0.71</td>\n",
       "      <td>...</td>\n",
       "      <td>0.016</td>\n",
       "      <td>1.41</td>\n",
       "      <td>1.29</td>\n",
       "      <td>0.004</td>\n",
       "      <td>9.12</td>\n",
       "      <td>1.72</td>\n",
       "      <td>0.02</td>\n",
       "      <td>0.45</td>\n",
       "      <td>0.05</td>\n",
       "      <td>1.0</td>\n",
       "    </tr>\n",
       "    <tr>\n",
       "      <th>4</th>\n",
       "      <td>0.92</td>\n",
       "      <td>24.33</td>\n",
       "      <td>0.03</td>\n",
       "      <td>0.20</td>\n",
       "      <td>0.006</td>\n",
       "      <td>2.67</td>\n",
       "      <td>0.69</td>\n",
       "      <td>0.57</td>\n",
       "      <td>0.61</td>\n",
       "      <td>0.13</td>\n",
       "      <td>...</td>\n",
       "      <td>0.117</td>\n",
       "      <td>6.74</td>\n",
       "      <td>1.11</td>\n",
       "      <td>0.003</td>\n",
       "      <td>16.90</td>\n",
       "      <td>2.41</td>\n",
       "      <td>0.02</td>\n",
       "      <td>0.06</td>\n",
       "      <td>0.02</td>\n",
       "      <td>1.0</td>\n",
       "    </tr>\n",
       "  </tbody>\n",
       "</table>\n",
       "<p>5 rows × 21 columns</p>\n",
       "</div>"
      ],
      "text/plain": [
       "   aluminium  ammonia  arsenic  barium  cadmium  chloramine  chromium  copper  \\\n",
       "0       1.65     9.08     0.04    2.85    0.007        0.35      0.83    0.17   \n",
       "1       2.32    21.16     0.01    3.31    0.002        5.28      0.68    0.66   \n",
       "2       1.01    14.02     0.04    0.58    0.008        4.24      0.53    0.02   \n",
       "3       1.36    11.33     0.04    2.96    0.001        7.23      0.03    1.66   \n",
       "4       0.92    24.33     0.03    0.20    0.006        2.67      0.69    0.57   \n",
       "\n",
       "   flouride  bacteria  ...   lead  nitrates  nitrites  mercury  perchlorate  \\\n",
       "0      0.05      0.20  ...  0.054     16.08      1.13    0.007        37.75   \n",
       "1      0.90      0.65  ...  0.100      2.01      1.93    0.003        32.26   \n",
       "2      0.99      0.05  ...  0.078     14.16      1.11    0.006        50.28   \n",
       "3      1.08      0.71  ...  0.016      1.41      1.29    0.004         9.12   \n",
       "4      0.61      0.13  ...  0.117      6.74      1.11    0.003        16.90   \n",
       "\n",
       "   radium  selenium  silver  uranium  is_safe  \n",
       "0    6.78      0.08    0.34     0.02      1.0  \n",
       "1    3.21      0.08    0.27     0.05      1.0  \n",
       "2    7.07      0.07    0.44     0.01      0.0  \n",
       "3    1.72      0.02    0.45     0.05      1.0  \n",
       "4    2.41      0.02    0.06     0.02      1.0  \n",
       "\n",
       "[5 rows x 21 columns]"
      ]
     },
     "execution_count": 22,
     "metadata": {},
     "output_type": "execute_result"
    }
   ],
   "source": [
    "# Check the data\n",
    "df.head()"
   ]
  },
  {
   "cell_type": "markdown",
   "id": "240adb94-dac0-457b-a2af-ca69e7f1b77b",
   "metadata": {},
   "source": [
    "### Preprocessing"
   ]
  },
  {
   "cell_type": "code",
   "execution_count": 23,
   "id": "9b7c9cc3-d4c2-4302-86cf-b4d55213b5aa",
   "metadata": {},
   "outputs": [],
   "source": [
    "# Separate input and output features\n",
    "X = df.iloc[:, :-1]\n",
    "y = df.iloc[:, -1]"
   ]
  },
  {
   "cell_type": "code",
   "execution_count": 24,
   "id": "1cdab346-1594-4454-ab40-ae340d0744f7",
   "metadata": {},
   "outputs": [],
   "source": [
    "# Split training and testing data\n",
    "X_train, X_test, y_train, y_test = train_test_split(X, y, test_size= 0.2, random_state=42)"
   ]
  },
  {
   "cell_type": "code",
   "execution_count": 25,
   "id": "e22a907f-63a7-4796-9bc1-337af05e3596",
   "metadata": {},
   "outputs": [],
   "source": [
    "# Scale the data\n",
    "scaler = StandardScaler()\n",
    "X_train_s = scaler.fit_transform(X_train)\n",
    "X_test_s = scaler.transform(X_test)"
   ]
  },
  {
   "cell_type": "markdown",
   "id": "f2f2207d-16a6-4d61-91a6-bf16c5dcdd11",
   "metadata": {},
   "source": [
    "### Model Training and Evaluation"
   ]
  },
  {
   "cell_type": "code",
   "execution_count": 26,
   "id": "f5065a84-1ccf-4466-bacf-86ac58d595d8",
   "metadata": {},
   "outputs": [],
   "source": [
    "# Train the model and evaluate the performance of the trained model with different metrics\n",
    "def train_evaluate(model):\n",
    "    # Train the model\n",
    "    model.fit(X_train_s, y_train)\n",
    "\n",
    "    # Predition with trained model for train and test data\n",
    "    y_train_pred = model.predict(X_train_s)\n",
    "    y_test_pred = model.predict(X_test_s)\n",
    "\n",
    "    # Evaluate the model with training data\n",
    "    print(\"=\" * 60)\n",
    "    print(\"EVALUATION  FOR TRAINING DATASET\")\n",
    "    print(\"=\" * 60)\n",
    "    print(f\"Accuracy: {accuracy_score(y_train, y_train_pred)}\")\n",
    "    print(f\"Precision: {precision_score(y_train, y_train_pred)}\")\n",
    "    print(f\"Recall: {recall_score(y_train, y_train_pred)}\")\n",
    "    print(f\"F1: {f1_score(y_train, y_train_pred)}\")\n",
    "    print(\"=\" * 60)\n",
    "    print(\"EVALUATION  FOR TESTING DATASET\")\n",
    "    print(\"=\" * 60)\n",
    "    print(f\"Accuracy: {accuracy_score(y_test, y_test_pred)}\")\n",
    "    print(f\"Precision: {precision_score(y_test, y_test_pred)}\")\n",
    "    print(f\"Recall: {recall_score(y_test, y_test_pred)}\")\n",
    "    print(f\"F1: {f1_score(y_test, y_test_pred)}\")"
   ]
  },
  {
   "cell_type": "code",
   "execution_count": 28,
   "id": "49255ebe-5339-4f71-b398-e0aa82e4e851",
   "metadata": {},
   "outputs": [
    {
     "name": "stdout",
     "output_type": "stream",
     "text": [
      "============================================================\n",
      "EVALUATION  FOR TRAINING DATASET\n",
      "============================================================\n",
      "Accuracy: 1.0\n",
      "Precision: 1.0\n",
      "Recall: 1.0\n",
      "F1: 1.0\n",
      "============================================================\n",
      "EVALUATION  FOR TESTING DATASET\n",
      "============================================================\n",
      "Accuracy: 0.96125\n",
      "Precision: 0.96\n",
      "Recall: 0.72\n",
      "F1: 0.8228571428571428\n"
     ]
    }
   ],
   "source": [
    "rf = RandomForestClassifier()\n",
    "train_evaluate(rf)"
   ]
  },
  {
   "cell_type": "markdown",
   "id": "dcaff6f9-5923-4e0c-94c7-98efe5d6b473",
   "metadata": {},
   "source": [
    "### Model Optimization"
   ]
  },
  {
   "cell_type": "code",
   "execution_count": 31,
   "id": "7b2f7a74-377a-4899-b4bc-3904bc58b327",
   "metadata": {},
   "outputs": [
    {
     "name": "stdout",
     "output_type": "stream",
     "text": [
      "Accuracy: 0.9612298185231541\n"
     ]
    }
   ],
   "source": [
    "# Model Validation\n",
    "kfold = KFold(n_splits = 10, random_state= 42, shuffle= True)\n",
    "vmodel = RandomForestClassifier()\n",
    "# Cross validation score\n",
    "result = cross_val_score(vmodel, X, y, cv= kfold)\n",
    "print(f\"Accuracy: {result.mean()}\")"
   ]
  },
  {
   "cell_type": "code",
   "execution_count": 33,
   "id": "4c882fda-a17a-486a-875a-033b2d50c754",
   "metadata": {},
   "outputs": [],
   "source": [
    "# Dehine Hyperparameter for Random Forest Classifier\n",
    "param_dict = {\n",
    "    \"n_estimators\": [100, 200, 400],\n",
    "    \"criterion\": [\"gini\", \"entropy\"],\n",
    "    \"max_depth\": [None, 2, 3, 4],\n",
    "    \"min_samples_split\": [2, 3, 4],\n",
    "    \"min_samples_leaf\": [1, 2, 4]\n",
    "}"
   ]
  },
  {
   "cell_type": "code",
   "execution_count": 36,
   "id": "ba151f4c-b58a-4c20-99e4-fa417bd8ecf9",
   "metadata": {},
   "outputs": [
    {
     "name": "stdout",
     "output_type": "stream",
     "text": [
      "Fitting 5 folds for each of 216 candidates, totalling 1080 fits\n",
      "Best Score: 0.8619430112570357\n"
     ]
    }
   ],
   "source": [
    "# Hyperparameter tuning to get the best performed model\n",
    "gmodel = RandomForestClassifier()\n",
    "\n",
    "# Define gridsearchcv\n",
    "gscv = GridSearchCV(estimator= gmodel,\n",
    "                   param_grid= param_dict,\n",
    "                   cv= 5,\n",
    "                   verbose= 1)\n",
    "#Train the model\n",
    "gscv.fit(X, y)\n",
    "\n",
    "# Get Best parameter set and score\n",
    "print(f\"Best Score: {gscv.best_score_}\")\n",
    "best_param_set = gscv.best_params_"
   ]
  },
  {
   "cell_type": "code",
   "execution_count": 38,
   "id": "1f728e9c-9577-4655-b2e0-8abc8efa6e7d",
   "metadata": {},
   "outputs": [
    {
     "data": {
      "text/plain": [
       "{'criterion': 'entropy',\n",
       " 'max_depth': 2,\n",
       " 'min_samples_leaf': 4,\n",
       " 'min_samples_split': 2,\n",
       " 'n_estimators': 200}"
      ]
     },
     "execution_count": 38,
     "metadata": {},
     "output_type": "execute_result"
    }
   ],
   "source": [
    "best_param_set"
   ]
  },
  {
   "cell_type": "code",
   "execution_count": 39,
   "id": "46e13cce-776d-4e04-806a-744e0585eed7",
   "metadata": {},
   "outputs": [
    {
     "name": "stdout",
     "output_type": "stream",
     "text": [
      "============================================================\n",
      "EVALUATION  FOR TRAINING DATASET\n",
      "============================================================\n",
      "Accuracy: 0.8886804252657912\n",
      "Precision: 0.0\n",
      "Recall: 0.0\n",
      "F1: 0.0\n",
      "============================================================\n",
      "EVALUATION  FOR TESTING DATASET\n",
      "============================================================\n",
      "Accuracy: 0.875\n",
      "Precision: 0.0\n",
      "Recall: 0.0\n",
      "F1: 0.0\n"
     ]
    }
   ],
   "source": [
    "model = RandomForestClassifier(** best_param_set)\n",
    "train_evaluate(model)"
   ]
  },
  {
   "cell_type": "markdown",
   "id": "8fb93143-1898-4117-b8c0-197e6f2a9ea7",
   "metadata": {},
   "source": [
    "### Conclusion\n",
    "\n",
    "> Model with default parameters generates most accuracy **96%**. "
   ]
  },
  {
   "cell_type": "code",
   "execution_count": 40,
   "id": "13b2a08d-111d-416b-8184-5b16a5253192",
   "metadata": {},
   "outputs": [],
   "source": [
    "# Save the model\n",
    "rf_model_path = os.path.join(model_path, \"rf_model.pkl\")\n",
    "with open(rf_model_path, \"wb\") as model_path_rf:\n",
    "    pickle.dump(rf, model_path_rf)"
   ]
  },
  {
   "cell_type": "code",
   "execution_count": null,
   "id": "c349d006-0a96-428b-a48b-41c0fd2be337",
   "metadata": {},
   "outputs": [],
   "source": []
  }
 ],
 "metadata": {
  "kernelspec": {
   "display_name": "Python 3 (ipykernel)",
   "language": "python",
   "name": "python3"
  },
  "language_info": {
   "codemirror_mode": {
    "name": "ipython",
    "version": 3
   },
   "file_extension": ".py",
   "mimetype": "text/x-python",
   "name": "python",
   "nbconvert_exporter": "python",
   "pygments_lexer": "ipython3",
   "version": "3.11.9"
  }
 },
 "nbformat": 4,
 "nbformat_minor": 5
}
